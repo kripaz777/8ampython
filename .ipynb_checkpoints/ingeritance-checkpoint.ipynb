{
 "cells": [
  {
   "cell_type": "code",
   "execution_count": 3,
   "metadata": {},
   "outputs": [
    {
     "name": "stdout",
     "output_type": "stream",
     "text": [
      "Enter name = Ram\n",
      "Enter age = 34\n",
      "Enter add = Kathmandu\n",
      "Hello I am Ram I am from Kathmandu I am 34\n"
     ]
    }
   ],
   "source": [
    "class Profile:\n",
    "    def __init__(self):\n",
    "        self.name = input(\"Enter name = \")\n",
    "        self.age = int(input(\"Enter age = \"))\n",
    "        self.add = input(\"Enter add = \")\n",
    "        \n",
    "class Id(Profile):\n",
    "    def information(self):\n",
    "        print(f\"Hello I am {self.name} I am from {self.add} I am {self.age}\")\n",
    "        \n",
    "obj = Id()\n",
    "obj.information()"
   ]
  },
  {
   "cell_type": "code",
   "execution_count": 4,
   "metadata": {},
   "outputs": [
    {
     "name": "stdout",
     "output_type": "stream",
     "text": [
      "Hello I am Ram I am from Kathmandu I am 34\n"
     ]
    },
    {
     "data": {
      "text/plain": [
       "'Ram'"
      ]
     },
     "execution_count": 4,
     "metadata": {},
     "output_type": "execute_result"
    }
   ],
   "source": [
    "class Profile:\n",
    "    def __init__(self,name,age,add):\n",
    "        self.name = name\n",
    "        self.age = age\n",
    "        self.add = add\n",
    "        \n",
    "    def profile(self):\n",
    "        return self.name\n",
    "        \n",
    "class Id(Profile):\n",
    "    def information(self):\n",
    "        print(f\"Hello I am {self.name} I am from {self.add} I am {self.age}\")\n",
    "        \n",
    "obj = Id(\"Ram\",34,\"Kathmandu\")\n",
    "obj.information()\n",
    "obj.profile()"
   ]
  },
  {
   "cell_type": "code",
   "execution_count": null,
   "metadata": {},
   "outputs": [],
   "source": [
    "# class A:\n",
    "#     pass\n",
    "# class B(A):\n",
    "#     pass\n",
    "# class C(B):\n",
    "#     pass\n",
    "\n",
    "# obj = C\n"
   ]
  },
  {
   "cell_type": "code",
   "execution_count": null,
   "metadata": {},
   "outputs": [],
   "source": [
    "class Profile:\n",
    "    def __init__(self,age,add):\n",
    "        self.age = age\n",
    "        self.add = add\n",
    "        \n",
    "    def profile(self):\n",
    "        return self.name\n",
    "        \n",
    "class Id(Profile):\n",
    "    def __init__(self,name,age,add):\n",
    "        self.name = name\n",
    "        Profile.__init__(self,age,add)\n",
    "        \n",
    "    def information(self):\n",
    "        print(f\"Hello I am {self.name} I am from {self.add} I am {self.age}\")\n",
    "        \n",
    "obj = Id(\"Ram\",34,\"Kathmandu\")\n",
    "obj.information()\n",
    "obj.profile()"
   ]
  }
 ],
 "metadata": {
  "kernelspec": {
   "display_name": "Python 3 (ipykernel)",
   "language": "python",
   "name": "python3"
  },
  "language_info": {
   "codemirror_mode": {
    "name": "ipython",
    "version": 3
   },
   "file_extension": ".py",
   "mimetype": "text/x-python",
   "name": "python",
   "nbconvert_exporter": "python",
   "pygments_lexer": "ipython3",
   "version": "3.7.1"
  }
 },
 "nbformat": 4,
 "nbformat_minor": 2
}
