{
 "cells": [
  {
   "cell_type": "code",
   "execution_count": 3,
   "metadata": {},
   "outputs": [
    {
     "name": "stdout",
     "output_type": "stream",
     "text": [
      "Enter name = Ram\n",
      "Enter age = 34\n",
      "Enter add = Kathmandu\n",
      "Hello I am Ram I am from Kathmandu I am 34\n"
     ]
    }
   ],
   "source": [
    "class Profile:\n",
    "    def __init__(self):\n",
    "        self.name = input(\"Enter name = \")\n",
    "        self.age = int(input(\"Enter age = \"))\n",
    "        self.add = input(\"Enter add = \")\n",
    "        \n",
    "class Id(Profile):\n",
    "    def information(self):\n",
    "        print(f\"Hello I am {self.name} I am from {self.add} I am {self.age}\")\n",
    "        \n",
    "obj = Id()\n",
    "obj.information()"
   ]
  },
  {
   "cell_type": "code",
   "execution_count": 4,
   "metadata": {},
   "outputs": [
    {
     "name": "stdout",
     "output_type": "stream",
     "text": [
      "Hello I am Ram I am from Kathmandu I am 34\n"
     ]
    },
    {
     "data": {
      "text/plain": [
       "'Ram'"
      ]
     },
     "execution_count": 4,
     "metadata": {},
     "output_type": "execute_result"
    }
   ],
   "source": [
    "class Profile:\n",
    "    def __init__(self,name,age,add):\n",
    "        self.name = name\n",
    "        self.age = age\n",
    "        self.add = add\n",
    "        \n",
    "    def profile(self):\n",
    "        return self.name\n",
    "        \n",
    "class Id(Profile):\n",
    "    def information(self):\n",
    "        print(f\"Hello I am {self.name} I am from {self.add} I am {self.age}\")\n",
    "        \n",
    "obj = Id(\"Ram\",34,\"Kathmandu\")\n",
    "obj.information()\n",
    "obj.profile()"
   ]
  },
  {
   "cell_type": "code",
   "execution_count": null,
   "metadata": {},
   "outputs": [],
   "source": [
    "# class A:\n",
    "#     pass\n",
    "# class B(A):\n",
    "#     pass\n",
    "# class C(B):\n",
    "#     pass\n",
    "\n",
    "# obj = C\n"
   ]
  },
  {
   "cell_type": "code",
   "execution_count": 5,
   "metadata": {},
   "outputs": [
    {
     "name": "stdout",
     "output_type": "stream",
     "text": [
      "Hello I am Ram I am from Kathmandu I am 34\n"
     ]
    },
    {
     "data": {
      "text/plain": [
       "'Ram'"
      ]
     },
     "execution_count": 5,
     "metadata": {},
     "output_type": "execute_result"
    }
   ],
   "source": [
    "class Profile:\n",
    "    def __init__(self,age,add):\n",
    "        self.age = age\n",
    "        self.add = add\n",
    "        \n",
    "    def profile(self):\n",
    "        return self.name\n",
    "        \n",
    "class Id(Profile):\n",
    "    def __init__(self,name,age,add):\n",
    "        self.name = name\n",
    "        Profile.__init__(self,age,add)\n",
    "        \n",
    "    def information(self):\n",
    "        print(f\"Hello I am {self.name} I am from {self.add} I am {self.age}\")\n",
    "        \n",
    "obj = Id(\"Ram\",34,\"Kathmandu\")\n",
    "obj.information()\n",
    "obj.profile()"
   ]
  },
  {
   "cell_type": "code",
   "execution_count": 7,
   "metadata": {},
   "outputs": [
    {
     "name": "stdout",
     "output_type": "stream",
     "text": [
      "Hello I am Ram I am from Kathmandu I am 34\n"
     ]
    }
   ],
   "source": [
    "class Address:\n",
    "    def __init__(self,add):\n",
    "        self.add = add\n",
    "\n",
    "class Profile(Address):\n",
    "    def __init__(self,age,add):\n",
    "        self.age = age\n",
    "        Address.__init__(self,add)\n",
    "    \n",
    "class Id(Address):\n",
    "    def __init__(self,name,age,add):\n",
    "        self.name = name\n",
    "        Profile.__init__(self,age,add)\n",
    "        \n",
    "    def information(self):\n",
    "        print(f\"Hello I am {self.name} I am from {self.add} I am {self.age}\")\n",
    "        \n",
    "obj = Id(\"Ram\",34,\"Kathmandu\")\n",
    "obj.information()"
   ]
  },
  {
   "cell_type": "code",
   "execution_count": 8,
   "metadata": {},
   "outputs": [
    {
     "name": "stdout",
     "output_type": "stream",
     "text": [
      "Enter name = Ram\n",
      "Enter age = 34\n",
      "Enter add = Kathmandu\n",
      "Hello I am Ram I am from Kathmandu I am 34\n"
     ]
    }
   ],
   "source": [
    "class Address:\n",
    "    def __init__(self):\n",
    "        self.add = input(\"Enter add = \")\n",
    "\n",
    "class Profile:\n",
    "    def __init__(self):\n",
    "        self.age = int(input(\"Enter age = \"))\n",
    "       \n",
    "    \n",
    "class Id(Address,Profile):\n",
    "    def __init__(self):\n",
    "        self.name = input(\"Enter name = \")\n",
    "        Profile.__init__(self)\n",
    "        Address.__init__(self)\n",
    "        \n",
    "    def information(self):\n",
    "        print(f\"Hello I am {self.name} I am from {self.add} I am {self.age}\")\n",
    "        \n",
    "obj = Id()\n",
    "obj.information()"
   ]
  },
  {
   "cell_type": "code",
   "execution_count": 9,
   "metadata": {},
   "outputs": [
    {
     "name": "stdout",
     "output_type": "stream",
     "text": [
      "Enter name = Ram\n",
      "Enter age = 34\n",
      "Enter add = Kathmandu\n",
      "Hello I am Ram I am from Kathmandu I am 34\n",
      "Kathmandu\n"
     ]
    }
   ],
   "source": [
    "class Address:\n",
    "    def __init__(self):\n",
    "        self.add = input(\"Enter add = \")\n",
    "    def add(self):\n",
    "        return self.add\n",
    "\n",
    "class Profile:\n",
    "    def __init__(self):\n",
    "        self.age = int(input(\"Enter age = \"))\n",
    "       \n",
    "    \n",
    "class Id(Address,Profile):\n",
    "    def __init__(self):\n",
    "        self.name = input(\"Enter name = \")\n",
    "        Profile.__init__(self)\n",
    "        Address.__init__(self)\n",
    "        \n",
    "    def information(self):\n",
    "        print(f\"Hello I am {self.name} I am from {self.add} I am {self.age}\")\n",
    "        print(Address.add(self))\n",
    "        \n",
    "obj = Id()\n",
    "obj.information()"
   ]
  },
  {
   "cell_type": "code",
   "execution_count": 10,
   "metadata": {},
   "outputs": [
    {
     "name": "stdout",
     "output_type": "stream",
     "text": [
      "Enter name = Ram\n",
      "Enter age = 34\n",
      "Enter add = Kathmandu\n",
      "Hello I am Ram I am from Kathmandu I am 34\n",
      "Kathmandu\n"
     ]
    }
   ],
   "source": [
    "class Address:\n",
    "    def __init__(self):\n",
    "        self.add = input(\"Enter add = \")\n",
    "    def add(self):\n",
    "        return self.add\n",
    "\n",
    "class Profile:\n",
    "    def __init__(self):\n",
    "        self.age = int(input(\"Enter age = \"))\n",
    "       \n",
    "    \n",
    "class Id(Address,Profile):\n",
    "    def __init__(self):\n",
    "        self.name = input(\"Enter name = \")\n",
    "        Profile.__init__(self)\n",
    "        Address.__init__(self)\n",
    "        \n",
    "    def information(self):\n",
    "        print(f\"Hello I am {self.name} I am from {self.add} I am {self.age}\")\n",
    "        print(super().add())\n",
    "        \n",
    "obj = Id()\n",
    "obj.information()"
   ]
  },
  {
   "cell_type": "code",
   "execution_count": null,
   "metadata": {},
   "outputs": [],
   "source": [
    "class Address:\n",
    "    def __init__(self,add):\n",
    "        self.add = input(\"Enter add = \")\n",
    "    def add(self):\n",
    "        return self.add\n",
    "\n",
    "class Profile:\n",
    "    def __init__(self,age):\n",
    "        self.age = int(input(\"Enter age = \"))\n",
    "       \n",
    "    \n",
    "class Id(Address,Profile):\n",
    "    def __init__(self,name,age,add):\n",
    "        self.name = name\n",
    "        Profile.__init__(self,age)\n",
    "        Address.__init__(self,add)\n",
    "        \n",
    "    def information(self):\n",
    "        print(f\"Hello I am {self.name} I am from {self.add} I am {self.age}\")\n",
    "        print(super().add())\n",
    "        \n",
    "obj = Id(\"Ram\",34,\"Kathmandu\")\n",
    "obj.information()"
   ]
  },
  {
   "cell_type": "code",
   "execution_count": 1,
   "metadata": {},
   "outputs": [
    {
     "name": "stdout",
     "output_type": "stream",
     "text": [
      "Ram 30\n",
      "Shyam 34\n",
      "Ram 30\n"
     ]
    }
   ],
   "source": [
    "class Info:\n",
    "    def __init__(self,name,age):\n",
    "        self.name=name\n",
    "        self.age = age\n",
    "    def info(self):\n",
    "        print(self.name,self.age)\n",
    "        \n",
    "    @staticmethod\n",
    "    def private():\n",
    "        name = \"Shyam\"\n",
    "        age = 34\n",
    "        print(name,age)\n",
    "        \n",
    "obj = Info(\"Ram\",30)\n",
    "obj.info()\n",
    "obj.private()\n",
    "print(obj.name,obj.age)"
   ]
  },
  {
   "cell_type": "code",
   "execution_count": 3,
   "metadata": {},
   "outputs": [
    {
     "data": {
      "text/plain": [
       "'Ram'"
      ]
     },
     "execution_count": 3,
     "metadata": {},
     "output_type": "execute_result"
    }
   ],
   "source": [
    "# Public members\n",
    "class Info:\n",
    "    def __init__(self,name,age):\n",
    "        self.name = name\n",
    "        self.age = age\n",
    "\n",
    "obj = Info(\"Ram\",34)\n",
    "obj.name"
   ]
  },
  {
   "cell_type": "code",
   "execution_count": 5,
   "metadata": {},
   "outputs": [
    {
     "data": {
      "text/plain": [
       "'Ram'"
      ]
     },
     "execution_count": 5,
     "metadata": {},
     "output_type": "execute_result"
    }
   ],
   "source": [
    "# Protected members\n",
    "class Info:\n",
    "    def __init__(self,name,age):\n",
    "        self._name = name\n",
    "        self._age = age\n",
    "\n",
    "obj = Info(\"Ram\",34)\n",
    "obj._name"
   ]
  },
  {
   "cell_type": "code",
   "execution_count": 7,
   "metadata": {},
   "outputs": [
    {
     "ename": "AttributeError",
     "evalue": "'Info' object has no attribute '__name'",
     "output_type": "error",
     "traceback": [
      "\u001b[1;31m---------------------------------------------------------------------------\u001b[0m",
      "\u001b[1;31mAttributeError\u001b[0m                            Traceback (most recent call last)",
      "\u001b[1;32m~\\AppData\\Local\\Temp/ipykernel_3804/256658266.py\u001b[0m in \u001b[0;36m<module>\u001b[1;34m\u001b[0m\n\u001b[0;32m      6\u001b[0m \u001b[1;33m\u001b[0m\u001b[0m\n\u001b[0;32m      7\u001b[0m \u001b[0mobj\u001b[0m \u001b[1;33m=\u001b[0m \u001b[0mInfo\u001b[0m\u001b[1;33m(\u001b[0m\u001b[1;34m\"Ram\"\u001b[0m\u001b[1;33m,\u001b[0m\u001b[1;36m34\u001b[0m\u001b[1;33m)\u001b[0m\u001b[1;33m\u001b[0m\u001b[1;33m\u001b[0m\u001b[0m\n\u001b[1;32m----> 8\u001b[1;33m \u001b[0mobj\u001b[0m\u001b[1;33m.\u001b[0m\u001b[0m__name\u001b[0m\u001b[1;33m\u001b[0m\u001b[1;33m\u001b[0m\u001b[0m\n\u001b[0m",
      "\u001b[1;31mAttributeError\u001b[0m: 'Info' object has no attribute '__name'"
     ]
    }
   ],
   "source": [
    "# Private members\n",
    "class Info:\n",
    "    def __init__(self,name,age):\n",
    "        self.__name = name\n",
    "        self.__age = age\n",
    "\n",
    "obj = Info(\"Ram\",34)\n",
    "obj.__name"
   ]
  },
  {
   "cell_type": "code",
   "execution_count": 8,
   "metadata": {},
   "outputs": [
    {
     "data": {
      "text/plain": [
       "'Ram'"
      ]
     },
     "execution_count": 8,
     "metadata": {},
     "output_type": "execute_result"
    }
   ],
   "source": [
    "# Private members\n",
    "class Info:\n",
    "    def __init__(self,name,age):\n",
    "        self.__name = name\n",
    "        self.__age = age\n",
    "\n",
    "obj = Info(\"Ram\",34)\n",
    "obj._Info__name"
   ]
  },
  {
   "cell_type": "code",
   "execution_count": 16,
   "metadata": {},
   "outputs": [
    {
     "name": "stdout",
     "output_type": "stream",
     "text": [
      "Hello I am Ram I am from Kathmandu I am 34\n"
     ]
    },
    {
     "data": {
      "text/plain": [
       "'Ram'"
      ]
     },
     "execution_count": 16,
     "metadata": {},
     "output_type": "execute_result"
    }
   ],
   "source": [
    "class Profile:\n",
    "    def __init__(self,age,add):\n",
    "        self._age = age\n",
    "        self._add = add\n",
    "        \n",
    "    def profile(self):\n",
    "        return self._Id__name\n",
    "        \n",
    "class Id(Profile):\n",
    "    def __init__(self,name,age,add):\n",
    "        self.__name = name\n",
    "        Profile.__init__(self,age,add)\n",
    "        \n",
    "    def information(self):\n",
    "        print(f\"Hello I am {self.__name} I am from {self._add} I am {self._age}\")\n",
    "        \n",
    "obj = Id(\"Ram\",34,\"Kathmandu\")\n",
    "obj.information()\n",
    "obj.profile()\n",
    "obj.profile()"
   ]
  },
  {
   "cell_type": "code",
   "execution_count": null,
   "metadata": {},
   "outputs": [],
   "source": [
    "class Profile:\n",
    "    def __init__(self):\n",
    "        self.name = input(\"Enter name = \")\n",
    "        self.age = int(input(\"Enter age = \"))\n",
    "        self.__add = input(\"Enter add = \")\n",
    "        \n",
    "class Id(Profile):\n",
    "    def information(self):\n",
    "        print(f\"Hello I am {self.name} I am from {self.add} I am {self.age}\")\n",
    "        \n",
    "obj = Id()\n",
    "obj.information()"
   ]
  },
  {
   "cell_type": "code",
   "execution_count": 17,
   "metadata": {},
   "outputs": [
    {
     "data": {
      "text/plain": [
       "100.0"
      ]
     },
     "execution_count": 17,
     "metadata": {},
     "output_type": "execute_result"
    }
   ],
   "source": [
    "import math as m\n",
    "m.pow(10,2)"
   ]
  },
  {
   "cell_type": "code",
   "execution_count": 19,
   "metadata": {},
   "outputs": [
    {
     "name": "stdout",
     "output_type": "stream",
     "text": [
      "Hello world\n"
     ]
    }
   ],
   "source": [
    "def outer_function(fun):\n",
    "    \n",
    "    def inner_function():\n",
    "        x =fun()\n",
    "    return inner_function()\n",
    "\n",
    "@outer_function\n",
    "def hello():\n",
    "    print(\"Hello world\")\n"
   ]
  },
  {
   "cell_type": "code",
   "execution_count": 20,
   "metadata": {},
   "outputs": [
    {
     "data": {
      "text/plain": [
       "'hellow world'"
      ]
     },
     "execution_count": 20,
     "metadata": {},
     "output_type": "execute_result"
    }
   ],
   "source": [
    "def strings(function):\n",
    "    def wrapper():\n",
    "        fun = function()\n",
    "        x = fun.lower()\n",
    "        return x\n",
    "    return wrapper\n",
    "\n",
    "@strings\n",
    "def info():\n",
    "    return 'Hellow World'\n",
    "\n",
    "info()\n"
   ]
  },
  {
   "cell_type": "code",
   "execution_count": null,
   "metadata": {},
   "outputs": [],
   "source": []
  }
 ],
 "metadata": {
  "kernelspec": {
   "display_name": "Python 3 (ipykernel)",
   "language": "python",
   "name": "python3"
  },
  "language_info": {
   "codemirror_mode": {
    "name": "ipython",
    "version": 3
   },
   "file_extension": ".py",
   "mimetype": "text/x-python",
   "name": "python",
   "nbconvert_exporter": "python",
   "pygments_lexer": "ipython3",
   "version": "3.7.1"
  }
 },
 "nbformat": 4,
 "nbformat_minor": 2
}
